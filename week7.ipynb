{
 "cells": [
  {
   "cell_type": "code",
   "execution_count": 1,
   "metadata": {},
   "outputs": [
    {
     "data": {
      "text/html": [
       "<div>\n",
       "<style scoped>\n",
       "    .dataframe tbody tr th:only-of-type {\n",
       "        vertical-align: middle;\n",
       "    }\n",
       "\n",
       "    .dataframe tbody tr th {\n",
       "        vertical-align: top;\n",
       "    }\n",
       "\n",
       "    .dataframe thead th {\n",
       "        text-align: right;\n",
       "    }\n",
       "</style>\n",
       "<table border=\"1\" class=\"dataframe\">\n",
       "  <thead>\n",
       "    <tr style=\"text-align: right;\">\n",
       "      <th></th>\n",
       "      <th>Logan</th>\n",
       "      <th>La La Land</th>\n",
       "      <th>Star Wars The force Awakens</th>\n",
       "      <th>Hacksaw Ridge</th>\n",
       "      <th>Inside Out</th>\n",
       "      <th>Gone Girl</th>\n",
       "      <th>Room</th>\n",
       "    </tr>\n",
       "  </thead>\n",
       "  <tbody>\n",
       "    <tr>\n",
       "      <th>Max</th>\n",
       "      <td>5.0</td>\n",
       "      <td>4.0</td>\n",
       "      <td>5.0</td>\n",
       "      <td>3.0</td>\n",
       "      <td>NaN</td>\n",
       "      <td>4.0</td>\n",
       "      <td>2.0</td>\n",
       "    </tr>\n",
       "    <tr>\n",
       "      <th>Justin</th>\n",
       "      <td>3.5</td>\n",
       "      <td>5.0</td>\n",
       "      <td>4.0</td>\n",
       "      <td>5.0</td>\n",
       "      <td>4.0</td>\n",
       "      <td>NaN</td>\n",
       "      <td>4.0</td>\n",
       "    </tr>\n",
       "    <tr>\n",
       "      <th>Miller</th>\n",
       "      <td>NaN</td>\n",
       "      <td>NaN</td>\n",
       "      <td>5.0</td>\n",
       "      <td>4.5</td>\n",
       "      <td>4.0</td>\n",
       "      <td>3.5</td>\n",
       "      <td>4.0</td>\n",
       "    </tr>\n",
       "    <tr>\n",
       "      <th>Kimberly</th>\n",
       "      <td>3.5</td>\n",
       "      <td>5.0</td>\n",
       "      <td>2.5</td>\n",
       "      <td>4.0</td>\n",
       "      <td>5.0</td>\n",
       "      <td>4.0</td>\n",
       "      <td>3.0</td>\n",
       "    </tr>\n",
       "    <tr>\n",
       "      <th>Sasha</th>\n",
       "      <td>NaN</td>\n",
       "      <td>2.5</td>\n",
       "      <td>5.0</td>\n",
       "      <td>2.0</td>\n",
       "      <td>5.0</td>\n",
       "      <td>3.0</td>\n",
       "      <td>NaN</td>\n",
       "    </tr>\n",
       "    <tr>\n",
       "      <th>Matthew</th>\n",
       "      <td>4.0</td>\n",
       "      <td>2.0</td>\n",
       "      <td>5.0</td>\n",
       "      <td>NaN</td>\n",
       "      <td>NaN</td>\n",
       "      <td>4.0</td>\n",
       "      <td>2.0</td>\n",
       "    </tr>\n",
       "  </tbody>\n",
       "</table>\n",
       "</div>"
      ],
      "text/plain": [
       "          Logan  La La Land  Star Wars The force Awakens  Hacksaw Ridge  \\\n",
       "Max         5.0         4.0                          5.0            3.0   \n",
       "Justin      3.5         5.0                          4.0            5.0   \n",
       "Miller      NaN         NaN                          5.0            4.5   \n",
       "Kimberly    3.5         5.0                          2.5            4.0   \n",
       "Sasha       NaN         2.5                          5.0            2.0   \n",
       "Matthew     4.0         2.0                          5.0            NaN   \n",
       "\n",
       "          Inside Out  Gone Girl  Room  \n",
       "Max              NaN        4.0   2.0  \n",
       "Justin           4.0        NaN   4.0  \n",
       "Miller           4.0        3.5   4.0  \n",
       "Kimberly         5.0        4.0   3.0  \n",
       "Sasha            5.0        3.0   NaN  \n",
       "Matthew          NaN        4.0   2.0  "
      ]
     },
     "execution_count": 1,
     "metadata": {},
     "output_type": "execute_result"
    }
   ],
   "source": [
    "# importing modules\n",
    "import pandas as pd\n",
    "import numpy as np\n",
    "import matplotlib.pyplot as plt\n",
    "%matplotlib inline\n",
    "\n",
    "# Import data from CSV\n",
    "movie = pd.read_csv('movie.csv', index_col = 0)  \n",
    "movie"
   ]
  },
  {
   "cell_type": "code",
   "execution_count": 6,
   "metadata": {},
   "outputs": [
    {
     "data": {
      "text/html": [
       "<div>\n",
       "<style scoped>\n",
       "    .dataframe tbody tr th:only-of-type {\n",
       "        vertical-align: middle;\n",
       "    }\n",
       "\n",
       "    .dataframe tbody tr th {\n",
       "        vertical-align: top;\n",
       "    }\n",
       "\n",
       "    .dataframe thead th {\n",
       "        text-align: right;\n",
       "    }\n",
       "</style>\n",
       "<table border=\"1\" class=\"dataframe\">\n",
       "  <thead>\n",
       "    <tr style=\"text-align: right;\">\n",
       "      <th></th>\n",
       "      <th>Logan</th>\n",
       "      <th>La La Land</th>\n",
       "      <th>Star Wars The force Awakens</th>\n",
       "      <th>Hacksaw Ridge</th>\n",
       "      <th>Inside Out</th>\n",
       "      <th>Gone Girl</th>\n",
       "      <th>Room</th>\n",
       "    </tr>\n",
       "  </thead>\n",
       "  <tbody>\n",
       "    <tr>\n",
       "      <th>Max</th>\n",
       "      <td>5.0</td>\n",
       "      <td>4.0</td>\n",
       "      <td>5.0</td>\n",
       "      <td>3.0</td>\n",
       "      <td>0.0</td>\n",
       "      <td>4.0</td>\n",
       "      <td>2.0</td>\n",
       "    </tr>\n",
       "    <tr>\n",
       "      <th>Justin</th>\n",
       "      <td>3.5</td>\n",
       "      <td>5.0</td>\n",
       "      <td>4.0</td>\n",
       "      <td>5.0</td>\n",
       "      <td>4.0</td>\n",
       "      <td>0.0</td>\n",
       "      <td>4.0</td>\n",
       "    </tr>\n",
       "    <tr>\n",
       "      <th>Miller</th>\n",
       "      <td>0.0</td>\n",
       "      <td>0.0</td>\n",
       "      <td>5.0</td>\n",
       "      <td>4.5</td>\n",
       "      <td>4.0</td>\n",
       "      <td>3.5</td>\n",
       "      <td>4.0</td>\n",
       "    </tr>\n",
       "    <tr>\n",
       "      <th>Kimberly</th>\n",
       "      <td>3.5</td>\n",
       "      <td>5.0</td>\n",
       "      <td>2.5</td>\n",
       "      <td>4.0</td>\n",
       "      <td>5.0</td>\n",
       "      <td>4.0</td>\n",
       "      <td>3.0</td>\n",
       "    </tr>\n",
       "    <tr>\n",
       "      <th>Sasha</th>\n",
       "      <td>0.0</td>\n",
       "      <td>2.5</td>\n",
       "      <td>5.0</td>\n",
       "      <td>2.0</td>\n",
       "      <td>5.0</td>\n",
       "      <td>3.0</td>\n",
       "      <td>0.0</td>\n",
       "    </tr>\n",
       "    <tr>\n",
       "      <th>Matthew</th>\n",
       "      <td>4.0</td>\n",
       "      <td>2.0</td>\n",
       "      <td>5.0</td>\n",
       "      <td>0.0</td>\n",
       "      <td>0.0</td>\n",
       "      <td>4.0</td>\n",
       "      <td>2.0</td>\n",
       "    </tr>\n",
       "  </tbody>\n",
       "</table>\n",
       "</div>"
      ],
      "text/plain": [
       "          Logan  La La Land  Star Wars The force Awakens  Hacksaw Ridge  \\\n",
       "Max         5.0         4.0                          5.0            3.0   \n",
       "Justin      3.5         5.0                          4.0            5.0   \n",
       "Miller      0.0         0.0                          5.0            4.5   \n",
       "Kimberly    3.5         5.0                          2.5            4.0   \n",
       "Sasha       0.0         2.5                          5.0            2.0   \n",
       "Matthew     4.0         2.0                          5.0            0.0   \n",
       "\n",
       "          Inside Out  Gone Girl  Room  \n",
       "Max              0.0        4.0   2.0  \n",
       "Justin           4.0        0.0   4.0  \n",
       "Miller           4.0        3.5   4.0  \n",
       "Kimberly         5.0        4.0   3.0  \n",
       "Sasha            5.0        3.0   0.0  \n",
       "Matthew          0.0        4.0   2.0  "
      ]
     },
     "execution_count": 6,
     "metadata": {},
     "output_type": "execute_result"
    }
   ],
   "source": [
    "# Cleaning Data and replacing NaN value with 0\n",
    "data_clean = movie.fillna(0.0)\n",
    "data_clean"
   ]
  },
  {
   "cell_type": "code",
   "execution_count": 7,
   "metadata": {},
   "outputs": [
    {
     "data": {
      "text/plain": [
       "Max         3.29\n",
       "Justin      3.64\n",
       "Miller      3.00\n",
       "Kimberly    3.86\n",
       "Sasha       2.50\n",
       "Matthew     2.43\n",
       "dtype: float64"
      ]
     },
     "execution_count": 7,
     "metadata": {},
     "output_type": "execute_result"
    }
   ],
   "source": [
    "#Finding average movie ratings by user\n",
    "Ratings = data_clean\n",
    "Ratings.mean(axis = 1).round(2) # axis 1 is Y axis"
   ]
  },
  {
   "cell_type": "code",
   "execution_count": 9,
   "metadata": {},
   "outputs": [
    {
     "data": {
      "text/plain": [
       "Logan                          2.67\n",
       "La La Land                     3.08\n",
       "Star Wars The force Awakens    4.42\n",
       "Hacksaw Ridge                  3.08\n",
       "Inside Out                     3.00\n",
       "Gone Girl                      3.08\n",
       "Room                           2.50\n",
       "dtype: float64"
      ]
     },
     "execution_count": 9,
     "metadata": {},
     "output_type": "execute_result"
    }
   ],
   "source": [
    "# Finding Average Ratings of Movie by Movies\n",
    "Ratings.mean(axis = 0).round(2)"
   ]
  },
  {
   "cell_type": "code",
   "execution_count": 8,
   "metadata": {},
   "outputs": [
    {
     "data": {
      "text/html": [
       "<div>\n",
       "<style scoped>\n",
       "    .dataframe tbody tr th:only-of-type {\n",
       "        vertical-align: middle;\n",
       "    }\n",
       "\n",
       "    .dataframe tbody tr th {\n",
       "        vertical-align: top;\n",
       "    }\n",
       "\n",
       "    .dataframe thead th {\n",
       "        text-align: right;\n",
       "    }\n",
       "</style>\n",
       "<table border=\"1\" class=\"dataframe\">\n",
       "  <thead>\n",
       "    <tr style=\"text-align: right;\">\n",
       "      <th></th>\n",
       "      <th>Logan</th>\n",
       "      <th>La La Land</th>\n",
       "      <th>Star Wars The force Awakens</th>\n",
       "      <th>Hacksaw Ridge</th>\n",
       "      <th>Inside Out</th>\n",
       "      <th>Gone Girl</th>\n",
       "      <th>Room</th>\n",
       "    </tr>\n",
       "  </thead>\n",
       "  <tbody>\n",
       "    <tr>\n",
       "      <th>Max</th>\n",
       "      <td>1.0</td>\n",
       "      <td>0.8</td>\n",
       "      <td>1.0</td>\n",
       "      <td>0.6</td>\n",
       "      <td>0.0</td>\n",
       "      <td>1.000</td>\n",
       "      <td>0.50</td>\n",
       "    </tr>\n",
       "    <tr>\n",
       "      <th>Justin</th>\n",
       "      <td>0.7</td>\n",
       "      <td>1.0</td>\n",
       "      <td>0.6</td>\n",
       "      <td>1.0</td>\n",
       "      <td>0.8</td>\n",
       "      <td>0.000</td>\n",
       "      <td>1.00</td>\n",
       "    </tr>\n",
       "    <tr>\n",
       "      <th>Miller</th>\n",
       "      <td>0.0</td>\n",
       "      <td>0.0</td>\n",
       "      <td>1.0</td>\n",
       "      <td>0.9</td>\n",
       "      <td>0.8</td>\n",
       "      <td>0.875</td>\n",
       "      <td>1.00</td>\n",
       "    </tr>\n",
       "    <tr>\n",
       "      <th>Kimberly</th>\n",
       "      <td>0.7</td>\n",
       "      <td>1.0</td>\n",
       "      <td>0.0</td>\n",
       "      <td>0.8</td>\n",
       "      <td>1.0</td>\n",
       "      <td>1.000</td>\n",
       "      <td>0.75</td>\n",
       "    </tr>\n",
       "    <tr>\n",
       "      <th>Sasha</th>\n",
       "      <td>0.0</td>\n",
       "      <td>0.5</td>\n",
       "      <td>1.0</td>\n",
       "      <td>0.4</td>\n",
       "      <td>1.0</td>\n",
       "      <td>0.750</td>\n",
       "      <td>0.00</td>\n",
       "    </tr>\n",
       "    <tr>\n",
       "      <th>Matthew</th>\n",
       "      <td>0.8</td>\n",
       "      <td>0.4</td>\n",
       "      <td>1.0</td>\n",
       "      <td>0.0</td>\n",
       "      <td>0.0</td>\n",
       "      <td>1.000</td>\n",
       "      <td>0.50</td>\n",
       "    </tr>\n",
       "  </tbody>\n",
       "</table>\n",
       "</div>"
      ],
      "text/plain": [
       "          Logan  La La Land  Star Wars The force Awakens  Hacksaw Ridge  \\\n",
       "Max         1.0         0.8                          1.0            0.6   \n",
       "Justin      0.7         1.0                          0.6            1.0   \n",
       "Miller      0.0         0.0                          1.0            0.9   \n",
       "Kimberly    0.7         1.0                          0.0            0.8   \n",
       "Sasha       0.0         0.5                          1.0            0.4   \n",
       "Matthew     0.8         0.4                          1.0            0.0   \n",
       "\n",
       "          Inside Out  Gone Girl  Room  \n",
       "Max              0.0      1.000  0.50  \n",
       "Justin           0.8      0.000  1.00  \n",
       "Miller           0.8      0.875  1.00  \n",
       "Kimberly         1.0      1.000  0.75  \n",
       "Sasha            1.0      0.750  0.00  \n",
       "Matthew          0.0      1.000  0.50  "
      ]
     },
     "execution_count": 8,
     "metadata": {},
     "output_type": "execute_result"
    }
   ],
   "source": [
    "# Normalizing Data\n",
    "# Data normalization is based on follwing formula: normalized = (x-x.min() / (x.max()-x.min()))\n",
    "normalized = (Ratings - Ratings.min())/ (Ratings.max()- Ratings.min())\n",
    "normalized"
   ]
  },
  {
   "cell_type": "code",
   "execution_count": 10,
   "metadata": {},
   "outputs": [
    {
     "data": {
      "image/png": "[encoded data removed]",
      "text/plain": [
       "<Figure size 432x288 with 1 Axes>"
      ]
     },
     "metadata": {
      "needs_background": "light"
     },
     "output_type": "display_data"
    }
   ],
   "source": [
    "# Displaying normalized data in plot\n",
    "Plot_User = normalized.mean(axis = 1).plot()\n",
    "Plot_movie = normalized.mean(axis =0).plot()"
   ]
  },
  {
   "cell_type": "code",
   "execution_count": 11,
   "metadata": {},
   "outputs": [
    {
     "name": "stdout",
     "output_type": "stream",
     "text": [
      "Logan                          0.533333\n",
      "La La Land                     0.616667\n",
      "Star Wars The force Awakens    0.766667\n",
      "Hacksaw Ridge                  0.616667\n",
      "Inside Out                     0.600000\n",
      "Gone Girl                      0.770833\n",
      "Room                           0.625000\n",
      "dtype: float64\n",
      "Max         0.700000\n",
      "Justin      0.728571\n",
      "Miller      0.653571\n",
      "Kimberly    0.750000\n",
      "Sasha       0.521429\n",
      "Matthew     0.528571\n",
      "dtype: float64\n"
     ]
    }
   ],
   "source": [
    "# Diplays normalized data in numbers\n",
    "print(normalized.mean(axis=0))\n",
    "print(normalized.mean(axis=1))"
   ]
  },
  {
   "cell_type": "code",
   "execution_count": 12,
   "metadata": {},
   "outputs": [
    {
     "data": {
      "text/html": [
       "<div>\n",
       "<style scoped>\n",
       "    .dataframe tbody tr th:only-of-type {\n",
       "        vertical-align: middle;\n",
       "    }\n",
       "\n",
       "    .dataframe tbody tr th {\n",
       "        vertical-align: top;\n",
       "    }\n",
       "\n",
       "    .dataframe thead th {\n",
       "        text-align: right;\n",
       "    }\n",
       "</style>\n",
       "<table border=\"1\" class=\"dataframe\">\n",
       "  <thead>\n",
       "    <tr style=\"text-align: right;\">\n",
       "      <th></th>\n",
       "      <th>Logan</th>\n",
       "      <th>La La Land</th>\n",
       "      <th>Star Wars The force Awakens</th>\n",
       "      <th>Hacksaw Ridge</th>\n",
       "      <th>Inside Out</th>\n",
       "      <th>Gone Girl</th>\n",
       "      <th>Room</th>\n",
       "    </tr>\n",
       "  </thead>\n",
       "  <tbody>\n",
       "    <tr>\n",
       "      <th>Max</th>\n",
       "      <td>1.091886</td>\n",
       "      <td>0.467683</td>\n",
       "      <td>0.571548</td>\n",
       "      <td>-0.044919</td>\n",
       "      <td>-1.267731</td>\n",
       "      <td>0.586635</td>\n",
       "      <td>-0.329690</td>\n",
       "    </tr>\n",
       "    <tr>\n",
       "      <th>Justin</th>\n",
       "      <td>0.389959</td>\n",
       "      <td>0.977883</td>\n",
       "      <td>-0.408248</td>\n",
       "      <td>1.033147</td>\n",
       "      <td>0.422577</td>\n",
       "      <td>-1.973228</td>\n",
       "      <td>0.989071</td>\n",
       "    </tr>\n",
       "    <tr>\n",
       "      <th>Miller</th>\n",
       "      <td>-1.247869</td>\n",
       "      <td>-1.573116</td>\n",
       "      <td>0.571548</td>\n",
       "      <td>0.763631</td>\n",
       "      <td>0.422577</td>\n",
       "      <td>0.266652</td>\n",
       "      <td>0.989071</td>\n",
       "    </tr>\n",
       "    <tr>\n",
       "      <th>Kimberly</th>\n",
       "      <td>0.389959</td>\n",
       "      <td>0.977883</td>\n",
       "      <td>-1.877942</td>\n",
       "      <td>0.494114</td>\n",
       "      <td>0.845154</td>\n",
       "      <td>0.586635</td>\n",
       "      <td>0.329690</td>\n",
       "    </tr>\n",
       "    <tr>\n",
       "      <th>Sasha</th>\n",
       "      <td>-1.247869</td>\n",
       "      <td>-0.297616</td>\n",
       "      <td>0.571548</td>\n",
       "      <td>-0.583953</td>\n",
       "      <td>0.845154</td>\n",
       "      <td>-0.053330</td>\n",
       "      <td>-1.648451</td>\n",
       "    </tr>\n",
       "    <tr>\n",
       "      <th>Matthew</th>\n",
       "      <td>0.623935</td>\n",
       "      <td>-0.552716</td>\n",
       "      <td>0.571548</td>\n",
       "      <td>-1.662019</td>\n",
       "      <td>-1.267731</td>\n",
       "      <td>0.586635</td>\n",
       "      <td>-0.329690</td>\n",
       "    </tr>\n",
       "  </tbody>\n",
       "</table>\n",
       "</div>"
      ],
      "text/plain": [
       "             Logan  La La Land  Star Wars The force Awakens  Hacksaw Ridge  \\\n",
       "Max       1.091886    0.467683                     0.571548      -0.044919   \n",
       "Justin    0.389959    0.977883                    -0.408248       1.033147   \n",
       "Miller   -1.247869   -1.573116                     0.571548       0.763631   \n",
       "Kimberly  0.389959    0.977883                    -1.877942       0.494114   \n",
       "Sasha    -1.247869   -0.297616                     0.571548      -0.583953   \n",
       "Matthew   0.623935   -0.552716                     0.571548      -1.662019   \n",
       "\n",
       "          Inside Out  Gone Girl      Room  \n",
       "Max        -1.267731   0.586635 -0.329690  \n",
       "Justin      0.422577  -1.973228  0.989071  \n",
       "Miller      0.422577   0.266652  0.989071  \n",
       "Kimberly    0.845154   0.586635  0.329690  \n",
       "Sasha       0.845154  -0.053330 -1.648451  \n",
       "Matthew    -1.267731   0.586635 -0.329690  "
      ]
     },
     "execution_count": 12,
     "metadata": {},
     "output_type": "execute_result"
    }
   ],
   "source": [
    "# Data Standardized based on formula : Standardized = (x-x.mean()) / x.std())\n",
    "standardized = (Ratings - Ratings.mean())/ Ratings.std()\n",
    "standardized"
   ]
  },
  {
   "cell_type": "code",
   "execution_count": 13,
   "metadata": {},
   "outputs": [
    {
     "data": {
      "image/png": "[encoded data removed]",
      "text/plain": [
       "<Figure size 432x288 with 1 Axes>"
      ]
     },
     "metadata": {
      "needs_background": "light"
     },
     "output_type": "display_data"
    }
   ],
   "source": [
    "# # Displaying standardized data in plot\n",
    "SPlot_User = standardized.mean(axis = 1).plot()\n",
    "SPlot_movie = standardized.mean(axis= 0).plot()"
   ]
  },
  {
   "cell_type": "code",
   "execution_count": 14,
   "metadata": {},
   "outputs": [
    {
     "name": "stdout",
     "output_type": "stream",
     "text": [
      "Logan                          3.700743e-17\n",
      "La La Land                    -7.401487e-17\n",
      "Star Wars The force Awakens   -3.330669e-16\n",
      "Hacksaw Ridge                 -7.401487e-17\n",
      "Inside Out                    -3.700743e-17\n",
      "Gone Girl                     -7.401487e-17\n",
      "Room                          -3.700743e-17\n",
      "dtype: float64\n",
      "Max         0.153630\n",
      "Justin      0.204451\n",
      "Miller      0.027499\n",
      "Kimberly    0.249356\n",
      "Sasha      -0.344931\n",
      "Matthew    -0.290006\n",
      "dtype: float64\n"
     ]
    }
   ],
   "source": [
    "# Diplays normalized data in numbers\n",
    "print(standardized.mean(axis=0))\n",
    "print(standardized.mean(axis=1))"
   ]
  },
  {
   "cell_type": "markdown",
   "metadata": {},
   "source": [
    "**Pros and Cons of using normalized ratings instead of actual ratings.**\n",
    "\n",
    "**Pros:**\n",
    "- Minimizes redundancy \n",
    " - Ensures that only related data is stored in each table.\n",
    "- Prevents any issues stemming from database modifications such as insertions,deletions,and updates.\n",
    "\n",
    "**Cons:**\n",
    "- Since data is not duplicated,table joins are required.\n",
    "- Complicated and read times are slower.\n",
    "- Indexing doesn't work as efficiently due to joins requirement."
   ]
  },
  {
   "cell_type": "markdown",
   "metadata": {},
   "source": [
    "**Reference:**\n",
    "- https://dzone.com/articles/pros-and-cons-of-database-normalization\n",
    "- https://towardsdatascience.com/database-normalization-explained-53e60a494495"
   ]
  },
  {
   "cell_type": "code",
   "execution_count": null,
   "metadata": {},
   "outputs": [],
   "source": []
  }
 ],
 "metadata": {
  "kernelspec": {
   "display_name": "Python 3",
   "language": "python",
   "name": "python3"
  },
  "language_info": {
   "codemirror_mode": {
    "name": "ipython",
    "version": 3
   },
   "file_extension": ".py",
   "mimetype": "text/x-python",
   "name": "python",
   "nbconvert_exporter": "python",
   "pygments_lexer": "ipython3",
   "version": "3.8.3"
  }
 },
 "nbformat": 4,
 "nbformat_minor": 4
}
